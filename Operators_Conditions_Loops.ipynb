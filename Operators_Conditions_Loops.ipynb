{
 "cells": [
  {
   "cell_type": "code",
   "execution_count": null,
   "id": "9cf72cc3-7a30-4a78-8964-60f2d3f21dd6",
   "metadata": {},
   "outputs": [],
   "source": [
    "##OPERATORS"
   ]
  },
  {
   "cell_type": "code",
   "execution_count": null,
   "id": "54711762-e15c-43ad-8688-e54df0a7f246",
   "metadata": {},
   "outputs": [],
   "source": [
    "##Arithmetic\n",
    "##Comparison\n",
    "##Logical "
   ]
  },
  {
   "cell_type": "code",
   "execution_count": null,
   "id": "756fc926-325a-4caa-ab8b-009d877bcb00",
   "metadata": {},
   "outputs": [],
   "source": [
    "##ARITHMETIC\n",
    "add, sub, mutiply, divide, floor division(//), modulus(%), exponential(**)"
   ]
  },
  {
   "cell_type": "code",
   "execution_count": null,
   "id": "b552d233-7e62-4bab-a839-022a319e1e98",
   "metadata": {},
   "outputs": [],
   "source": [
    "##Comparison\n",
    "equal to(==), not equal to(!=) ,Greater than(>), Less than(<), Greater than equal to(>=), Less than equal to(<=)"
   ]
  },
  {
   "cell_type": "code",
   "execution_count": null,
   "id": "9955d533-b5c7-48a9-a8e9-0e013441e5ad",
   "metadata": {},
   "outputs": [],
   "source": [
    "##AND, OR, NOT\n",
    "AND = both a and b are true, then only true\n",
    "or =  out of a and b any one is true , then true\n",
    "NOT = reverse of boolean operator "
   ]
  },
  {
   "cell_type": "code",
   "execution_count": null,
   "id": "ef8019fd-0fcb-411b-a19a-e624b955ec35",
   "metadata": {},
   "outputs": [],
   "source": [
    "##Conditional Statements\n",
    "if,  else, elif, Nested "
   ]
  },
  {
   "cell_type": "code",
   "execution_count": null,
   "id": "47751bc0-08be-4692-b026-653ce40e1861",
   "metadata": {},
   "outputs": [],
   "source": [
    "## IF\n",
    "age=20\n",
    "if age>=18:\n",
    "    print(\"You are allowed to vote\")"
   ]
  },
  {
   "cell_type": "code",
   "execution_count": null,
   "id": "fc303400-125d-4363-ae54-e35c25c1d279",
   "metadata": {},
   "outputs": [],
   "source": [
    "## ELSE\n",
    "age=12\n",
    "if age>=18:\n",
    "    print(\"You are allowed to vote.\")\n",
    "else:\n",
    "    print(\"You are not allowed to vote.\")"
   ]
  },
  {
   "cell_type": "code",
   "execution_count": null,
   "id": "13079949-e396-4e07-bbdd-2d8ac11a622d",
   "metadata": {},
   "outputs": [],
   "source": [
    "##Elif -> allows us to check multiple conditions\n",
    "age =22\n",
    "if age<13:\n",
    "    print(\"you are a child\")\n",
    "elif age < 18:\n",
    "    print (\"you are teen\")\n",
    "elif age>18 and age<23:\n",
    "    print(\"College stud\")\n",
    "else:\n",
    "    print(\"Adult\")"
   ]
  },
  {
   "cell_type": "code",
   "execution_count": null,
   "id": "b0070c22-d4c4-4daa-a6d2-e3f20c29a05a",
   "metadata": {},
   "outputs": [],
   "source": [
    "##LOOPS\n",
    "For loop, While Loop"
   ]
  },
  {
   "cell_type": "code",
   "execution_count": 1,
   "id": "b8a8d0c6-b898-44d3-9aab-5b5e7344a0aa",
   "metadata": {},
   "outputs": [
    {
     "name": "stdout",
     "output_type": "stream",
     "text": [
      "0\n",
      "1\n",
      "2\n",
      "3\n",
      "4\n",
      "5\n",
      "6\n",
      "7\n",
      "8\n",
      "9\n"
     ]
    }
   ],
   "source": [
    "for i in range(10):\n",
    "    print(i)"
   ]
  },
  {
   "cell_type": "code",
   "execution_count": 5,
   "id": "81010751-483d-4ba1-8999-ee8e6e8bea13",
   "metadata": {},
   "outputs": [
    {
     "name": "stdout",
     "output_type": "stream",
     "text": [
      "10\n",
      "8\n",
      "6\n",
      "4\n",
      "2\n"
     ]
    }
   ],
   "source": [
    "for i in range(10,1,-2):\n",
    "    print(i)"
   ]
  },
  {
   "cell_type": "code",
   "execution_count": null,
   "id": "75d8ead0-026b-4157-8678-0d218a9928fb",
   "metadata": {},
   "outputs": [],
   "source": [
    "##Loop control statements (break and continue)\n",
    "for i in range(10):\n",
    "    if i == 7:\n",
    "        bre\n"
   ]
  }
 ],
 "metadata": {
  "kernelspec": {
   "display_name": "Python 3 (ipykernel)",
   "language": "python",
   "name": "python3"
  },
  "language_info": {
   "codemirror_mode": {
    "name": "ipython",
    "version": 3
   },
   "file_extension": ".py",
   "mimetype": "text/x-python",
   "name": "python",
   "nbconvert_exporter": "python",
   "pygments_lexer": "ipython3",
   "version": "3.12.7"
  }
 },
 "nbformat": 4,
 "nbformat_minor": 5
}
